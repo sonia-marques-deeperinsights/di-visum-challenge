{
 "cells": [
  {
   "cell_type": "markdown",
   "id": "35ca95c4",
   "metadata": {},
   "source": [
    "## # Deeper Insights Challenge \n",
    "<p><img src=\"https://raw.githubusercontent.com/sonia-marques-deeperinsights/di-visum-challenge/main/banner_cartoons.png\" alt=\"A picture of cartoon characters!\"></p>\n",
    "<h3 id=\"letslookatlegosets\">Let's look at Cartoons!</h3>\n",
    "<p>The team from Deeper Insights wants to challenge you to perform some analysis on a Cartoon Dataset. You're free to use the tools you prefer but we suggest the use of the pandas and matplotlib libraries to achieve the results.</p>\n",
    "<p>Here is the source of the <a href=\"https://google.github.io/cartoonset/\">original cartoon dataset</a> for you to become familiar with the data types but remember that the data you should analyse is provided in the git repository!</p>"
   ]
  },
  {
   "cell_type": "code",
   "execution_count": 40,
   "id": "d0626a67",
   "metadata": {},
   "outputs": [
    {
     "name": "stdout",
     "output_type": "stream",
     "text": [
      "Read file #0\n",
      "Read file #1000\n",
      "Read file #2000\n",
      "Read file #3000\n",
      "Read file #4000\n",
      "Read file #5000\n",
      "Read file #6000\n",
      "Read file #7000\n",
      "Read file #8000\n",
      "Category                       index eye_angle eye_lashes eye_lid chin_length  \\\n",
      "0                          # Classes         3          2       2           3   \n",
      "1         cs10571477962556972748.csv         1          0       0           1   \n",
      "2         cs10419454717692364619.csv         2          0       1           2   \n",
      "3         cs10423413340727302718.csv         1          0       1           2   \n",
      "4         cs10950449006388524542.csv         1          0       1           0   \n",
      "\n",
      "Category eyebrow_weight eyebrow_shape eyebrow_thickness face_shape  \\\n",
      "0                     2            14                 4          7   \n",
      "1                     1             1                 0          3   \n",
      "2                     0             3                 1          4   \n",
      "3                     0             4                 1          3   \n",
      "4                     0            13                 2          0   \n",
      "\n",
      "Category facial_hair hair eye_color face_color hair_color glasses  \\\n",
      "0                 15  111         5         11         10      12   \n",
      "1                 14   87         2          4          2      11   \n",
      "2                 14   37         2          7          0       8   \n",
      "3                 14    4         4         10          6      11   \n",
      "4                 14  101         3          6          6      11   \n",
      "\n",
      "Category glasses_color eye_slant eyebrow_width eye_eyebrow_distance  \n",
      "0                    7         3             3                    3  \n",
      "1                    5         0             1                    1  \n",
      "2                    5         1             1                    2  \n",
      "3                    5         0             1                    0  \n",
      "4                    3         1             2                    2  \n"
     ]
    }
   ],
   "source": [
    "import pandas as pd\n",
    "from pathlib import Path\n",
    "\n",
    "NAME_COLUMN = \"filename\"\n",
    "paths = Path(r'./cartoonset/').glob('*.csv')\n",
    "\n",
    "# Load data and prepare dataframe\n",
    "for i, path in enumerate(paths):\n",
    "    if i % 1000 == 0:\n",
    "        print(f\"Read file #{i}\")\n",
    "        \n",
    "    column_names_init = [\"Category\", str(path.name), \"# Classes\"]\n",
    "    df_iter = pd.read_csv(path, names=column_names_init)\n",
    "    column_names_final = ['Category', '# Classes', str(path.name)]\n",
    "    cols = list(df_iter.columns)\n",
    "    df_iter = df_iter[column_names_final]\n",
    "    \n",
    "    if i == 0:\n",
    "        df = df_iter\n",
    "    else:\n",
    "        df[str(path.name)] = df_iter[str(path.name)]\n",
    "        \n",
    "df = df.transpose()\n",
    "df.columns = df.iloc[0]\n",
    "df = df.iloc[1: , :]\n",
    "df = df.reset_index()\n",
    "print(df.head())"
   ]
  },
  {
   "cell_type": "markdown",
   "id": "b83684cf",
   "metadata": {},
   "source": [
    "<h3>Question 1</h3><p>When analysing the data, you notice there is a problem of class imbalance regarding the eye_lashes category. You will be using weighted cross entropy as loss function to train a classification model for these classes. What are the weights of class 0 and 1, respectively?</p>"
   ]
  },
  {
   "cell_type": "code",
   "execution_count": null,
   "id": "103aa69d",
   "metadata": {},
   "outputs": [],
   "source": []
  },
  {
   "cell_type": "markdown",
   "id": "d847ae11",
   "metadata": {},
   "source": [
    "<h3>Question 2</h3><p>Which is the combination of face color and hair color that is most likely to be found together in the same cartoon character of the dataset?</p>"
   ]
  },
  {
   "cell_type": "code",
   "execution_count": null,
   "id": "3d0224e1",
   "metadata": {},
   "outputs": [],
   "source": []
  }
 ],
 "metadata": {
  "kernelspec": {
   "display_name": "Python 3",
   "language": "python",
   "name": "python3"
  },
  "language_info": {
   "codemirror_mode": {
    "name": "ipython",
    "version": 3
   },
   "file_extension": ".py",
   "mimetype": "text/x-python",
   "name": "python",
   "nbconvert_exporter": "python",
   "pygments_lexer": "ipython3",
   "version": "3.9.7"
  }
 },
 "nbformat": 4,
 "nbformat_minor": 5
}
